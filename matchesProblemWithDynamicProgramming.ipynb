{
 "cells": [
  {
   "cell_type": "markdown",
   "metadata": {},
   "source": [
    "# Matches: Three dynamic programming solutions\n",
    "## Asynchronous Value Iteration\n",
    "### Description\n",
    "There are 20 matches on the table. In each round, the players consecutively chose to pick one or two matches from the table, until remain any matches on the table. The player who takes away the last match(es) wins. What is the winner strategy?\n",
    "http://matek.fazekas.hu/index.php?option=com_content&view=article&id=76:szakkori-anyag-6-elokeszito-hrasko-andras-2002-2003&catid=20&Itemid=134"
   ]
  },
  {
   "cell_type": "code",
   "execution_count": 2,
   "metadata": {
    "collapsed": true
   },
   "outputs": [],
   "source": [
    "from __future__ import print_function\n",
    "import numpy as np\n",
    "import matplotlib.pyplot as plt\n",
    "import random\n",
    "%matplotlib inline"
   ]
  },
  {
   "cell_type": "code",
   "execution_count": null,
   "metadata": {
    "collapsed": true
   },
   "outputs": [],
   "source": []
  },
  {
   "cell_type": "markdown",
   "metadata": {
    "collapsed": false
   },
   "source": [
    "## Asynchronous Value Iteration without functions (solution 1)\n",
    "The term asynchronous means that we use an in-place algorithm for updating the value function, and we don't keep the original values of $V_{k}(s)$ until the end of updating the whole vector $V_{k+1}(s)$. \n",
    "### $\\underline {Pseudocode}$:\n",
    "Initialize array V arbitrarily (e.g. V(s)=0 $\\forall$ s)  \n",
    "Repeat  \n",
    "$\\qquad$ $\\Delta \\leftarrow $ 0  \n",
    "$\\qquad$ for each $s \\in S:$  \n",
    "$\\qquad\\qquad$ v$  \\leftarrow $ V(s)  \n",
    "$\\qquad\\qquad$ V(s)  $\\leftarrow \\max_{a} \\sum_{s',r} p(s',r| s,a)[r+ \\gamma V(s')]$.  \n",
    "$\\qquad\\qquad$ $\\Delta  \\leftarrow  max (\\Delta, |v- V(s)|)$  \n",
    "Untill $\\Delta< \\theta$  \n",
    "Output a deterministic policy , $\\pi=\\pi^{*}$, such that $\\pi(s) = argmax_{a} \\sum_{s',r} p(s',r| s,a)[r+ \\gamma V(s')]$"
   ]
  },
  {
   "cell_type": "markdown",
   "metadata": {},
   "source": [
    "# Notes:\n",
    "In the case when we have rewards only at the terminal states, instead of including the rewards, we can modify the terminal values $\\gamma V(s')$ of value function, to $r+ \\gamma V(s')$ because the value of $V$ at the terminal state will never be updated by the algorithm. In this example, howewer, it is not enough to modify the value function at the last state, because the return depend on which player get there. For the sake of the simple representation, we expand the set of states with an imaginary zero and two negative matches, and  we assume, that the game always ends with the step of the opponent, when there remain mo matches on the table, and possibly the number of matches might be negative. To assure that the players behave according to the original rules, we explicitly must prevent the players stepping to state -1 from state 1. In this representation, we have to initialize the value function to 1 at the states -2 and -1, and to 0 at state 0. The algorithm have to be modified not to update these values. "
   ]
  },
  {
   "cell_type": "markdown",
   "metadata": {},
   "source": [
    "## The optimal value function"
   ]
  },
  {
   "cell_type": "code",
   "execution_count": 5,
   "metadata": {
    "collapsed": false
   },
   "outputs": [
    {
     "name": "stdout",
     "output_type": "stream",
     "text": [
      "iteration\n",
      "iteration\n",
      "[ 1.        1.        0.        1.        1.        0.5       1.        1.\n",
      "  0.75      1.        1.        0.875     1.        1.        0.9375    1.\n",
      "  1.        0.96875   1.        1.        0.984375  1.        1.      ]\n"
     ]
    },
    {
     "data": {
      "image/png": "[encoded data removed]",
      "text/plain": [
       "<matplotlib.figure.Figure at 0x7ff461c27a90>"
      ]
     },
     "metadata": {},
     "output_type": "display_data"
    }
   ],
   "source": [
    "N_MATCHES = 20\n",
    "trueStateValues = np.zeros(N_MATCHES+3)\n",
    "trueStateValues[0:2]=1\n",
    "STATES = np.arange(0, N_MATCHES+ 3) \n",
    "def possibleActions(state):\n",
    "    \"\"\"returns the possible actions for a given state, \n",
    "    with the distribution of possible actions\"\"\"\n",
    "    if state != 1:\n",
    "        return [-1, -2], [0.5, 0.5]\n",
    "    else:\n",
    "        return [-1], [1]\n",
    "while True:\n",
    "    print( \"iteration\")\n",
    "    oldTrueStateValues = np.copy(trueStateValues)\n",
    "    for state in STATES[3:]:\n",
    "        maxExpextedReturn=-np.inf\n",
    "        for action in possibleActions(state)[0]:\n",
    "            expected_return = 0\n",
    "            for opp_action_ind in np.arange(0,len(possibleActions(state + action)[0])):\n",
    "                newState = state + action + possibleActions(state + action)[0][opp_action_ind]\n",
    "                expected_return += possibleActions(state + action)[1][opp_action_ind]*trueStateValues[newState]\n",
    "            if expected_return > maxExpextedReturn:\n",
    "                maxExpextedReturn = expected_return\n",
    "        trueStateValues[state] = maxExpextedReturn       \n",
    "    error = np.sum(np.abs(oldTrueStateValues - trueStateValues))\n",
    "    if error < 1e-4:\n",
    "        break\n",
    "\n",
    "def figure():\n",
    "    plt.figure(0)\n",
    "    plt.plot(STATES, trueStateValues, label='True value')\n",
    "    plt.xlabel('State')\n",
    "    plt.ylabel('Value')\n",
    "    plt.legend()\n",
    "figure()\n",
    "print(trueStateValues)"
   ]
  },
  {
   "cell_type": "markdown",
   "metadata": {},
   "source": [
    "# Optimal Policy\n",
    "The next code determines greedy policy w.r.t. value function saved in `trueStateValues` using $$\\pi(s) = argmax_{a} \\sum_{s',r} p(s',r| s,a)[r+ \\gamma V(s')]$$"
   ]
  },
  {
   "cell_type": "code",
   "execution_count": 6,
   "metadata": {
    "collapsed": false
   },
   "outputs": [
    {
     "name": "stdout",
     "output_type": "stream",
     "text": [
      "[ 0.  0.  0. -1. -2. -1. -1. -2. -1. -1. -2. -1. -1. -2. -1. -1. -2. -1.\n",
      " -1. -2. -1. -1. -2.]\n"
     ]
    }
   ],
   "source": [
    "policy=np.zeros(N_MATCHES+3)\n",
    "for state in STATES[3:]:\n",
    "    maxExpextedReturn=-np.inf\n",
    "    for action in possibleActions(state)[0]:\n",
    "        expected_return = 0\n",
    "        for opp_action_ind in np.arange(0,len(possibleActions(state + action)[0])):\n",
    "            newState = state + action + possibleActions(state + action)[0][opp_action_ind]\n",
    "            expected_return += possibleActions(state + action)[1][opp_action_ind]*trueStateValues[newState]\n",
    "        if expected_return > maxExpextedReturn:\n",
    "            maxExpextedReturn = expected_return\n",
    "            policy[state]=action\n",
    "print(policy)"
   ]
  },
  {
   "cell_type": "markdown",
   "metadata": {},
   "source": [
    "# Value Iteration with Smart Opponent"
   ]
  },
  {
   "cell_type": "code",
   "execution_count": 7,
   "metadata": {
    "collapsed": false
   },
   "outputs": [
    {
     "name": "stdout",
     "output_type": "stream",
     "text": [
      "16.0\n",
      "0.0\n",
      "[ 1.  1.  0.  1.  1.  0.  1.  1.  0.  1.  1.  0.  1.  1.  0.  1.  1.  0.\n",
      "  1.  1.  0.  1.  1.  0.  1.  1.  0.]\n"
     ]
    },
    {
     "data": {
      "image/png": "[encoded data removed]",
      "text/plain": [
       "<matplotlib.figure.Figure at 0x7ff4640b4650>"
      ]
     },
     "metadata": {},
     "output_type": "display_data"
    }
   ],
   "source": [
    "N_MATCHES = 24\n",
    "trueStateValues = np.zeros(N_MATCHES+3)\n",
    "trueStateValues[0:2]=1\n",
    "STATES = np.arange(0, N_MATCHES+ 3) \n",
    "def possibleActions(state, smart = False):\n",
    "    \"\"\"returns the possible actions for a given state, \n",
    "    with the distribution of possible actions\"\"\"\n",
    "    if smart == False:\n",
    "        if state != 1:\n",
    "            return [-1, -2], [0.5, 0.5]\n",
    "        else:\n",
    "            return [-1], [1]\n",
    "    else:\n",
    "        if state != 1:\n",
    "            return [-max(1,((state-2)%3))], [1]\n",
    "        else:\n",
    "            return [-1], [1]\n",
    "while True:\n",
    "    oldTrueStateValues = np.copy(trueStateValues)\n",
    "    for state in STATES[3:]:\n",
    "        maxExpextedReturn=-np.inf\n",
    "        for action in possibleActions(state)[0]:\n",
    "            expected_return = 0\n",
    "            \n",
    "            for opp_action_ind in np.arange(0,len(possibleActions(state + action, True)[0])):\n",
    "\n",
    "                newState = state+action + possibleActions(state + action, True)[0][opp_action_ind]\n",
    "                expected_return += possibleActions(state + action, True)[1][opp_action_ind]*trueStateValues[newState]\n",
    "            if expected_return > maxExpextedReturn:\n",
    "                maxExpextedReturn = expected_return\n",
    "        trueStateValues[state] = maxExpextedReturn       \n",
    "    error = np.sum(np.abs(oldTrueStateValues - trueStateValues))\n",
    "    print(error)\n",
    "    if error < 1e-4:\n",
    "        break\n",
    "\n",
    "def figure():\n",
    "    plt.figure(0)\n",
    "    plt.plot(STATES, trueStateValues, label='True value')\n",
    "    plt.xlabel('State')\n",
    "    plt.ylabel('Value')\n",
    "    plt.legend()\n",
    "figure()\n",
    "print(trueStateValues)"
   ]
  },
  {
   "cell_type": "markdown",
   "metadata": {},
   "source": [
    "## The same with OOP  (solution 2)"
   ]
  },
  {
   "cell_type": "code",
   "execution_count": null,
   "metadata": {
    "collapsed": false
   },
   "outputs": [],
   "source": []
  },
  {
   "cell_type": "markdown",
   "metadata": {},
   "source": [
    "The `maxExpectedReturn` function gives the value and action index of $$\\max_{a} \\sum_{s',r} p(s',r| s,a)[r+ \\gamma V(s')]$$."
   ]
  },
  {
   "cell_type": "code",
   "execution_count": 8,
   "metadata": {
    "collapsed": false
   },
   "outputs": [
    {
     "data": {
      "text/plain": [
       "array([[4, 0, 9, 0],\n",
       "       [0, 7, 0, 0],\n",
       "       [0, 0, 0, 0],\n",
       "       [0, 3, 0, 5]])"
      ]
     },
     "execution_count": 8,
     "metadata": {},
     "output_type": "execute_result"
    }
   ],
   "source": [
    "# use these to construct transition mx by using function newStateDistr.\n",
    "from scipy import sparse\n",
    "from numpy import array\n",
    "I = array([0,3,1,0,3])\n",
    "J = array([0,3,1,2,1])\n",
    "V = array([4,5,7,9,3])\n",
    "A = sparse.coo_matrix((V,(I,J)),shape=(4,4))\n",
    "A.toarray()                      "
   ]
  },
  {
   "cell_type": "code",
   "execution_count": 8,
   "metadata": {
    "collapsed": false
   },
   "outputs": [
    {
     "name": "stdout",
     "output_type": "stream",
     "text": [
      "[ 0.9921875   1.          1.          0.99609375  1.          1.\n",
      "  0.99804688  1.          1.          0.99902344  1.          1.\n",
      "  0.99951172  1.          1.          0.99975586  1.          1.\n",
      "  0.99987793  1.          1.          0.99993896  1.        ]\n",
      "[ 0.  0.  1.  0.  0.  1.  0.  0.  1.  0.  0.  1.  0.  0.  1.  0.  0.  1.\n",
      "  0.  0.  1.  0.  0.]\n"
     ]
    },
    {
     "data": {
      "image/png": "[encoded data removed]",
      "text/plain": [
       "<matplotlib.figure.Figure at 0x7f8a04653e10>"
      ]
     },
     "metadata": {},
     "output_type": "display_data"
    },
    {
     "data": {
      "image/png": "[encoded data removed]",
      "text/plain": [
       "<matplotlib.figure.Figure at 0x7f8a0730a050>"
      ]
     },
     "metadata": {},
     "output_type": "display_data"
    }
   ],
   "source": [
    "N_MATCHES = 20\n",
    "trueStateValues = np.zeros(N_MATCHES+3)\n",
    "initialPol = np.zeros(N_MATCHES+3)\n",
    "trueStateValues[0:2]=1\n",
    "STATES = np.arange(0, N_MATCHES+ 3) \n",
    "class Model():\n",
    "    def __init__(self, states):\n",
    "        self.states=states\n",
    "    def newStatesDistr(self, state, action): #returns distribution p(s',r|s,a)\n",
    "        newStates=[]\n",
    "        sprob=[]\n",
    "        for opp_action_ind in np.arange(0,len(self.possibleActions(state)[0])):\n",
    "            newState = state + action + self.possibleActions(state)[0][opp_action_ind]\n",
    "            newStates.append(newState)\n",
    "            sprob.append(self.possibleActions(state)[1][opp_action_ind])\n",
    "        return newStates, sprob\n",
    "    def possibleActions(self, state):\n",
    "        \"\"\"returns the possible actions for a given state, \n",
    "        with the distribution of possible actions\"\"\"\n",
    "        if state != 1:\n",
    "            return [-1, -2], [0.5, 0.5]\n",
    "        else:\n",
    "            return [-1], [1]\n",
    "class ValueFunction():\n",
    "    def __init__(self, values, model,pol):\n",
    "        self.values = values\n",
    "        self.model = model\n",
    "        self.pol = pol\n",
    "    def updateVF(self, state): #updates self.values property and returns best action index\n",
    "        \n",
    "        maxExpectedReturn = -np.inf\n",
    "        maxERInd = 0\n",
    "        for action_ind in np.arange(0,len(self.model.possibleActions(state)[0])):\n",
    "            s=self.model.newStatesDistr(state, self.model.possibleActions(state)[0][action_ind])[0]\n",
    "            p=self.model.newStatesDistr(state, self.model.possibleActions(state)[0][action_ind])[1]\n",
    "            p=np.array(p)\n",
    "            V=[self.values[i] for i in s]\n",
    "            V=np.array(V)\n",
    "            expected_return=np.dot(p,V)\n",
    "            if expected_return > maxExpectedReturn:\n",
    "                maxExpectedReturn = expected_return\n",
    "                maxERInd = action_ind\n",
    "        self.values[state] = maxExpectedReturn  #updates self.values property\n",
    "        return maxERInd\n",
    "    \n",
    "    def valueIteration(self):\n",
    "        while True:\n",
    "            oldTrueStateValues = np.copy(self.values)\n",
    "            for state in self.model.states[3:]:\n",
    "                self.updateVF(state)\n",
    "            error = np.sum(np.abs(oldTrueStateValues - self.values))\n",
    "            if error < 1e-4:\n",
    "                break\n",
    "        for state in STATES:\n",
    "            self.pol[state]=self.updateVF(state)\n",
    "        \n",
    "m = Model(STATES)   \n",
    "v=ValueFunction(trueStateValues,m, initialPol)\n",
    "v.valueIteration()\n",
    "print(v.values)\n",
    "def figure():\n",
    "    plt.figure(0)\n",
    "    plt.plot(STATES, v.values, label='value')\n",
    "    plt.xlabel('State')\n",
    "    plt.ylabel('Value')\n",
    "    plt.legend()\n",
    "    plt.figure(1) \n",
    "    plt.plot(STATES, v.pol, label='policy')\n",
    "    plt.xlabel('State')\n",
    "    plt.ylabel('Action')\n",
    "    plt.legend()    \n",
    "    \n",
    "    \n",
    "figure()\n",
    "print(v.pol)\n",
    "\n",
    "\n"
   ]
  },
  {
   "cell_type": "code",
   "execution_count": 10,
   "metadata": {
    "collapsed": false
   },
   "outputs": [
    {
     "name": "stdout",
     "output_type": "stream",
     "text": [
      "Help on method updateVF in module __main__:\n",
      "\n",
      "updateVF(self, state) method of __main__.ValueFunction instance\n",
      "\n"
     ]
    }
   ],
   "source": [
    "help(v.updateVF)"
   ]
  },
  {
   "cell_type": "code",
   "execution_count": null,
   "metadata": {
    "collapsed": false
   },
   "outputs": [],
   "source": [
    "policy=np.zeros(N_MATCHES+3)\n",
    "for state in STATES:\n",
    "    policy[state]=maxExpectedReturn(state)[1]\n",
    "print(policy)"
   ]
  },
  {
   "cell_type": "code",
   "execution_count": 11,
   "metadata": {
    "collapsed": false
   },
   "outputs": [
    {
     "name": "stdout",
     "output_type": "stream",
     "text": [
      "23\n"
     ]
    }
   ],
   "source": [
    "print(len(STATES))"
   ]
  },
  {
   "cell_type": "code",
   "execution_count": 12,
   "metadata": {
    "collapsed": false
   },
   "outputs": [
    {
     "name": "stdout",
     "output_type": "stream",
     "text": [
      "23\n"
     ]
    }
   ],
   "source": [
    "print(len(trueStateValues))"
   ]
  },
  {
   "cell_type": "markdown",
   "metadata": {},
   "source": [
    "## The same with functions  (solution 3)\n"
   ]
  },
  {
   "cell_type": "code",
   "execution_count": 13,
   "metadata": {
    "collapsed": true
   },
   "outputs": [],
   "source": [
    "N_MATCHES = 20\n",
    "trueStateValues = np.zeros(N_MATCHES+3)\n",
    "trueStateValues[0:2]=1\n",
    "STATES = np.arange(0, N_MATCHES+ 3) \n",
    "def possibleActions(state):\n",
    "    \"\"\"returns the possible actions for a given state, \n",
    "    with the distribution of possible actions\"\"\"\n",
    "    if state != 1:\n",
    "        return [-1, -2], [0.5, 0.5]\n",
    "    else:\n",
    "        return [-1], [1]\n",
    "def maxExpectedReturn(state):\n",
    "    maxExpectedReturn = -np.inf\n",
    "    maxERInd = 0\n",
    "    agentPActions=possibleActions(state)[0]\n",
    "    for action in agentPActions:\n",
    "        expected_return = 0\n",
    "        newState=state+action\n",
    "        possibleOActions = possibleActions(newState)[0]\n",
    "        distributionPActions = possibleActions(newState)[1]\n",
    "        for opp_action_ind in np.arange(0,len(possibleOActions)):\n",
    "            newStateAterOp = newState + possibleOActions[opp_action_ind]\n",
    "            expected_return += distributionPActions[opp_action_ind]*trueStateValues[newStateAterOp]\n",
    "        if expected_return > maxExpectedReturn:\n",
    "            maxExpectedReturn = expected_return\n",
    "            maxERInd = action\n",
    "    return maxExpectedReturn, maxERInd"
   ]
  },
  {
   "cell_type": "code",
   "execution_count": 14,
   "metadata": {
    "collapsed": true
   },
   "outputs": [],
   "source": [
    "while True:\n",
    "    oldTrueStateValues = np.copy(trueStateValues)\n",
    "    for state in STATES[3:]:\n",
    "        trueStateValues[state] = maxExpectedReturn(state)[0]       \n",
    "    error = np.sum(np.abs(oldTrueStateValues - trueStateValues))\n",
    "    if error < 1e-4:\n",
    "        break"
   ]
  },
  {
   "cell_type": "markdown",
   "metadata": {},
   "source": [
    "## Optimal policy:"
   ]
  },
  {
   "cell_type": "code",
   "execution_count": 15,
   "metadata": {
    "collapsed": false,
    "scrolled": true
   },
   "outputs": [
    {
     "name": "stdout",
     "output_type": "stream",
     "text": [
      "[-1. -1. -1. -1. -2. -1. -1. -2. -1. -1. -2. -1. -1. -2. -1. -1. -2. -1.\n",
      " -1. -2. -1. -1. -2.]\n"
     ]
    }
   ],
   "source": [
    "policy=np.zeros(N_MATCHES+3)\n",
    "for state in STATES:\n",
    "    policy[state]=maxExpectedReturn(state)[1]\n",
    "print(policy)"
   ]
  },
  {
   "cell_type": "code",
   "execution_count": 16,
   "metadata": {
    "collapsed": false
   },
   "outputs": [
    {
     "name": "stdout",
     "output_type": "stream",
     "text": [
      "[ 1.        1.        0.        1.        1.        0.5       1.        1.\n",
      "  0.75      1.        1.        0.875     1.        1.        0.9375    1.\n",
      "  1.        0.96875   1.        1.        0.984375  1.        1.      ]\n"
     ]
    },
    {
     "data": {
      "image/png": "[encoded data removed]",
      "text/plain": [
       "<matplotlib.figure.Figure at 0x7ff460f71850>"
      ]
     },
     "metadata": {},
     "output_type": "display_data"
    }
   ],
   "source": [
    "def figure9_1():\n",
    "    plt.figure(0)\n",
    "    plt.plot(STATES, trueStateValues, label='True value')\n",
    "    plt.xlabel('State')\n",
    "    plt.ylabel('Value')\n",
    "    plt.legend()\n",
    "figure9_1()\n",
    "print(trueStateValues)"
   ]
  },
  {
   "cell_type": "markdown",
   "metadata": {},
   "source": []
  },
  {
   "cell_type": "code",
   "execution_count": null,
   "metadata": {
    "collapsed": false
   },
   "outputs": [],
   "source": [
    " "
   ]
  },
  {
   "cell_type": "markdown",
   "metadata": {},
   "source": []
  },
  {
   "cell_type": "code",
   "execution_count": null,
   "metadata": {
    "collapsed": false
   },
   "outputs": [],
   "source": []
  },
  {
   "cell_type": "code",
   "execution_count": null,
   "metadata": {
    "collapsed": false
   },
   "outputs": [],
   "source": []
  },
  {
   "cell_type": "code",
   "execution_count": null,
   "metadata": {
    "collapsed": false
   },
   "outputs": [],
   "source": []
  },
  {
   "cell_type": "code",
   "execution_count": null,
   "metadata": {
    "collapsed": false
   },
   "outputs": [],
   "source": []
  },
  {
   "cell_type": "code",
   "execution_count": null,
   "metadata": {
    "collapsed": true
   },
   "outputs": [],
   "source": []
  }
 ],
 "metadata": {
  "anaconda-cloud": {},
  "kernelspec": {
   "display_name": "Python 2",
   "language": "python",
   "name": "python2"
  },
  "language_info": {
   "codemirror_mode": {
    "name": "ipython",
    "version": 2
   },
   "file_extension": ".py",
   "mimetype": "text/x-python",
   "name": "python",
   "nbconvert_exporter": "python",
   "pygments_lexer": "ipython2",
   "version": "2.7.13"
  }
 },
 "nbformat": 4,
 "nbformat_minor": 1
}
